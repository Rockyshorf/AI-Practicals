{
 "cells": [
  {
   "cell_type": "markdown",
   "id": "483b408d",
   "metadata": {},
   "source": [
    "## Adaboost Ensemble Learning"
   ]
  },
  {
   "cell_type": "code",
   "execution_count": 8,
   "id": "13d46d74",
   "metadata": {},
   "outputs": [],
   "source": [
    "import pandas as pd\n",
    "from sklearn.preprocessing import LabelEncoder\n",
    "from sklearn.ensemble import AdaBoostClassifier\n",
    "from sklearn.model_selection import cross_val_score"
   ]
  },
  {
   "cell_type": "code",
   "execution_count": 2,
   "id": "37cc6f34",
   "metadata": {},
   "outputs": [
    {
     "data": {
      "text/html": [
       "<div>\n",
       "<style scoped>\n",
       "    .dataframe tbody tr th:only-of-type {\n",
       "        vertical-align: middle;\n",
       "    }\n",
       "\n",
       "    .dataframe tbody tr th {\n",
       "        vertical-align: top;\n",
       "    }\n",
       "\n",
       "    .dataframe thead th {\n",
       "        text-align: right;\n",
       "    }\n",
       "</style>\n",
       "<table border=\"1\" class=\"dataframe\">\n",
       "  <thead>\n",
       "    <tr style=\"text-align: right;\">\n",
       "      <th></th>\n",
       "      <th>sepallength</th>\n",
       "      <th>sepalwidth</th>\n",
       "      <th>petallength</th>\n",
       "      <th>petalwidth</th>\n",
       "      <th>class</th>\n",
       "    </tr>\n",
       "  </thead>\n",
       "  <tbody>\n",
       "    <tr>\n",
       "      <th>0</th>\n",
       "      <td>5.1</td>\n",
       "      <td>3.5</td>\n",
       "      <td>1.4</td>\n",
       "      <td>0.2</td>\n",
       "      <td>Iris-setosa</td>\n",
       "    </tr>\n",
       "    <tr>\n",
       "      <th>1</th>\n",
       "      <td>4.9</td>\n",
       "      <td>3.0</td>\n",
       "      <td>1.4</td>\n",
       "      <td>0.2</td>\n",
       "      <td>Iris-setosa</td>\n",
       "    </tr>\n",
       "    <tr>\n",
       "      <th>2</th>\n",
       "      <td>4.7</td>\n",
       "      <td>3.2</td>\n",
       "      <td>1.3</td>\n",
       "      <td>0.2</td>\n",
       "      <td>Iris-setosa</td>\n",
       "    </tr>\n",
       "    <tr>\n",
       "      <th>3</th>\n",
       "      <td>4.6</td>\n",
       "      <td>3.1</td>\n",
       "      <td>1.5</td>\n",
       "      <td>0.2</td>\n",
       "      <td>Iris-setosa</td>\n",
       "    </tr>\n",
       "    <tr>\n",
       "      <th>4</th>\n",
       "      <td>5.0</td>\n",
       "      <td>3.6</td>\n",
       "      <td>1.4</td>\n",
       "      <td>0.2</td>\n",
       "      <td>Iris-setosa</td>\n",
       "    </tr>\n",
       "  </tbody>\n",
       "</table>\n",
       "</div>"
      ],
      "text/plain": [
       "   sepallength  sepalwidth  petallength  petalwidth        class\n",
       "0          5.1         3.5          1.4         0.2  Iris-setosa\n",
       "1          4.9         3.0          1.4         0.2  Iris-setosa\n",
       "2          4.7         3.2          1.3         0.2  Iris-setosa\n",
       "3          4.6         3.1          1.5         0.2  Iris-setosa\n",
       "4          5.0         3.6          1.4         0.2  Iris-setosa"
      ]
     },
     "execution_count": 2,
     "metadata": {},
     "output_type": "execute_result"
    }
   ],
   "source": [
    "s = pd.read_csv('./AI_DATA/iris_csv.csv')\n",
    "s.head()"
   ]
  },
  {
   "cell_type": "code",
   "execution_count": 3,
   "id": "e606d691",
   "metadata": {},
   "outputs": [],
   "source": [
    "array = s.values\n",
    "X = array[:,0:4]\n",
    "y = array[:,4]"
   ]
  },
  {
   "cell_type": "code",
   "execution_count": 5,
   "id": "f49373a1",
   "metadata": {},
   "outputs": [
    {
     "name": "stdout",
     "output_type": "stream",
     "text": [
      "[[8 14 4 0.2]\n",
      " [6 9 4 0.2]\n",
      " [4 11 3 0.2]\n",
      " [3 10 5 0.2]\n",
      " [7 15 4 0.2]\n",
      " [11 18 7 0.4]\n",
      " [3 13 4 0.3]\n",
      " [7 13 5 0.2]\n",
      " [1 8 4 0.2]\n",
      " [6 10 5 0.1]\n",
      " [11 16 5 0.2]\n",
      " [5 13 6 0.2]\n",
      " [5 9 4 0.1]\n",
      " [0 9 1 0.1]\n",
      " [15 19 2 0.2]\n",
      " [14 22 5 0.4]\n",
      " [11 18 3 0.4]\n",
      " [8 14 4 0.3]\n",
      " [14 17 7 0.3]\n",
      " [8 17 5 0.3]\n",
      " [11 13 7 0.2]\n",
      " [8 16 5 0.4]\n",
      " [3 15 0 0.2]\n",
      " [8 12 7 0.5]\n",
      " [5 13 8 0.2]\n",
      " [7 9 6 0.2]\n",
      " [7 13 6 0.4]\n",
      " [9 14 5 0.2]\n",
      " [9 13 4 0.2]\n",
      " [4 11 6 0.2]\n",
      " [5 10 6 0.2]\n",
      " [11 13 5 0.4]\n",
      " [9 20 5 0.1]\n",
      " [12 21 4 0.2]\n",
      " [6 10 5 0.1]\n",
      " [7 11 2 0.2]\n",
      " [12 14 3 0.2]\n",
      " [6 10 5 0.1]\n",
      " [1 9 3 0.2]\n",
      " [8 13 5 0.2]\n",
      " [7 14 3 0.3]\n",
      " [2 2 3 0.3]\n",
      " [1 11 3 0.2]\n",
      " [7 14 6 0.6]\n",
      " [8 17 8 0.4]\n",
      " [5 9 4 0.3]\n",
      " [8 17 6 0.2]\n",
      " [3 11 4 0.2]\n",
      " [10 16 5 0.2]\n",
      " [7 12 4 0.2]\n",
      " [27 11 23 1.4]\n",
      " [21 11 21 1.5]\n",
      " [26 10 25 1.5]\n",
      " [12 2 16 1.3]\n",
      " [22 7 22 1.5]\n",
      " [14 7 21 1.3]\n",
      " [20 12 23 1.6]\n",
      " [6 3 10 1.0]\n",
      " [23 8 22 1.3]\n",
      " [9 6 15 1.4]\n",
      " [7 0 11 1.0]\n",
      " [16 9 18 1.5]\n",
      " [17 1 16 1.0]\n",
      " [18 8 23 1.4]\n",
      " [13 8 12 1.3]\n",
      " [24 10 20 1.4]\n",
      " [13 9 21 1.5]\n",
      " [15 6 17 1.0]\n",
      " [19 1 21 1.5]\n",
      " [13 4 15 1.1]\n",
      " [16 11 24 1.8]\n",
      " [18 7 16 1.3]\n",
      " [20 4 25 1.5]\n",
      " [18 7 23 1.2]\n",
      " [21 8 19 1.3]\n",
      " [23 9 20 1.4]\n",
      " [25 7 24 1.4]\n",
      " [24 9 26 1.7]\n",
      " [17 8 21 1.5]\n",
      " [14 5 11 1.0]\n",
      " [12 3 14 1.1]\n",
      " [12 3 13 1.0]\n",
      " [15 6 15 1.2]\n",
      " [17 6 27 1.6]\n",
      " [11 9 21 1.5]\n",
      " [17 13 21 1.6]\n",
      " [24 10 23 1.5]\n",
      " [20 2 20 1.3]\n",
      " [13 9 17 1.3]\n",
      " [12 4 16 1.3]\n",
      " [12 5 20 1.2]\n",
      " [18 9 22 1.4]\n",
      " [15 5 16 1.2]\n",
      " [7 2 10 1.0]\n",
      " [13 6 18 1.3]\n",
      " [14 9 18 1.2]\n",
      " [14 8 18 1.3]\n",
      " [19 8 19 1.3]\n",
      " [8 4 9 1.1]\n",
      " [14 7 17 1.3]\n",
      " [20 12 36 2.5]\n",
      " [15 6 27 1.9]\n",
      " [28 9 35 2.1]\n",
      " [20 8 32 1.8]\n",
      " [22 9 34 2.2]\n",
      " [32 9 40 2.1]\n",
      " [6 4 21 1.7]\n",
      " [30 8 38 1.8]\n",
      " [24 4 34 1.8]\n",
      " [29 15 37 2.5]\n",
      " [22 11 27 2.0]\n",
      " [21 6 29 1.9]\n",
      " [25 9 31 2.1]\n",
      " [14 4 26 2.0]\n",
      " [15 7 27 2.4]\n",
      " [21 11 29 2.3]\n",
      " [22 9 31 1.8]\n",
      " [33 17 41 2.2]\n",
      " [33 5 42 2.3]\n",
      " [17 1 26 1.5]\n",
      " [26 11 33 2.3]\n",
      " [13 7 25 2.0]\n",
      " [33 7 41 2.0]\n",
      " [20 6 25 1.8]\n",
      " [24 12 33 2.1]\n",
      " [29 11 36 1.8]\n",
      " [19 7 24 1.8]\n",
      " [18 9 25 1.8]\n",
      " [21 7 32 2.1]\n",
      " [29 9 34 1.6]\n",
      " [31 7 37 1.9]\n",
      " [34 17 39 2.0]\n",
      " [21 7 32 2.2]\n",
      " [20 7 27 1.5]\n",
      " [18 5 32 1.4]\n",
      " [33 9 37 2.3]\n",
      " [20 13 32 2.4]\n",
      " [21 10 31 1.8]\n",
      " [17 9 24 1.8]\n",
      " [26 10 30 2.1]\n",
      " [24 10 32 2.4]\n",
      " [26 10 27 2.3]\n",
      " [15 6 27 1.9]\n",
      " [25 11 35 2.3]\n",
      " [24 12 33 2.5]\n",
      " [24 9 28 2.3]\n",
      " [20 4 26 1.9]\n",
      " [22 9 28 2.0]\n",
      " [19 13 30 2.3]\n",
      " [16 9 27 1.8]]\n"
     ]
    }
   ],
   "source": [
    "le = LabelEncoder()\n",
    "y = le.fit_transform(y)\n",
    "for i in range(0,3):\n",
    "    X[:,i] = le.fit_transform(X[:,i])\n",
    "print(X)"
   ]
  },
  {
   "cell_type": "code",
   "execution_count": 7,
   "id": "11cca5b3",
   "metadata": {},
   "outputs": [
    {
     "data": {
      "text/html": [
       "<style>#sk-container-id-1 {color: black;background-color: white;}#sk-container-id-1 pre{padding: 0;}#sk-container-id-1 div.sk-toggleable {background-color: white;}#sk-container-id-1 label.sk-toggleable__label {cursor: pointer;display: block;width: 100%;margin-bottom: 0;padding: 0.3em;box-sizing: border-box;text-align: center;}#sk-container-id-1 label.sk-toggleable__label-arrow:before {content: \"▸\";float: left;margin-right: 0.25em;color: #696969;}#sk-container-id-1 label.sk-toggleable__label-arrow:hover:before {color: black;}#sk-container-id-1 div.sk-estimator:hover label.sk-toggleable__label-arrow:before {color: black;}#sk-container-id-1 div.sk-toggleable__content {max-height: 0;max-width: 0;overflow: hidden;text-align: left;background-color: #f0f8ff;}#sk-container-id-1 div.sk-toggleable__content pre {margin: 0.2em;color: black;border-radius: 0.25em;background-color: #f0f8ff;}#sk-container-id-1 input.sk-toggleable__control:checked~div.sk-toggleable__content {max-height: 200px;max-width: 100%;overflow: auto;}#sk-container-id-1 input.sk-toggleable__control:checked~label.sk-toggleable__label-arrow:before {content: \"▾\";}#sk-container-id-1 div.sk-estimator input.sk-toggleable__control:checked~label.sk-toggleable__label {background-color: #d4ebff;}#sk-container-id-1 div.sk-label input.sk-toggleable__control:checked~label.sk-toggleable__label {background-color: #d4ebff;}#sk-container-id-1 input.sk-hidden--visually {border: 0;clip: rect(1px 1px 1px 1px);clip: rect(1px, 1px, 1px, 1px);height: 1px;margin: -1px;overflow: hidden;padding: 0;position: absolute;width: 1px;}#sk-container-id-1 div.sk-estimator {font-family: monospace;background-color: #f0f8ff;border: 1px dotted black;border-radius: 0.25em;box-sizing: border-box;margin-bottom: 0.5em;}#sk-container-id-1 div.sk-estimator:hover {background-color: #d4ebff;}#sk-container-id-1 div.sk-parallel-item::after {content: \"\";width: 100%;border-bottom: 1px solid gray;flex-grow: 1;}#sk-container-id-1 div.sk-label:hover label.sk-toggleable__label {background-color: #d4ebff;}#sk-container-id-1 div.sk-serial::before {content: \"\";position: absolute;border-left: 1px solid gray;box-sizing: border-box;top: 0;bottom: 0;left: 50%;z-index: 0;}#sk-container-id-1 div.sk-serial {display: flex;flex-direction: column;align-items: center;background-color: white;padding-right: 0.2em;padding-left: 0.2em;position: relative;}#sk-container-id-1 div.sk-item {position: relative;z-index: 1;}#sk-container-id-1 div.sk-parallel {display: flex;align-items: stretch;justify-content: center;background-color: white;position: relative;}#sk-container-id-1 div.sk-item::before, #sk-container-id-1 div.sk-parallel-item::before {content: \"\";position: absolute;border-left: 1px solid gray;box-sizing: border-box;top: 0;bottom: 0;left: 50%;z-index: -1;}#sk-container-id-1 div.sk-parallel-item {display: flex;flex-direction: column;z-index: 1;position: relative;background-color: white;}#sk-container-id-1 div.sk-parallel-item:first-child::after {align-self: flex-end;width: 50%;}#sk-container-id-1 div.sk-parallel-item:last-child::after {align-self: flex-start;width: 50%;}#sk-container-id-1 div.sk-parallel-item:only-child::after {width: 0;}#sk-container-id-1 div.sk-dashed-wrapped {border: 1px dashed gray;margin: 0 0.4em 0.5em 0.4em;box-sizing: border-box;padding-bottom: 0.4em;background-color: white;}#sk-container-id-1 div.sk-label label {font-family: monospace;font-weight: bold;display: inline-block;line-height: 1.2em;}#sk-container-id-1 div.sk-label-container {text-align: center;}#sk-container-id-1 div.sk-container {/* jupyter's `normalize.less` sets `[hidden] { display: none; }` but bootstrap.min.css set `[hidden] { display: none !important; }` so we also need the `!important` here to be able to override the default hidden behavior on the sphinx rendered scikit-learn.org. See: https://github.com/scikit-learn/scikit-learn/issues/21755 */display: inline-block !important;position: relative;}#sk-container-id-1 div.sk-text-repr-fallback {display: none;}</style><div id=\"sk-container-id-1\" class=\"sk-top-container\"><div class=\"sk-text-repr-fallback\"><pre>AdaBoostClassifier(n_estimators=30, random_state=1)</pre><b>In a Jupyter environment, please rerun this cell to show the HTML representation or trust the notebook. <br />On GitHub, the HTML representation is unable to render, please try loading this page with nbviewer.org.</b></div><div class=\"sk-container\" hidden><div class=\"sk-item\"><div class=\"sk-estimator sk-toggleable\"><input class=\"sk-toggleable__control sk-hidden--visually\" id=\"sk-estimator-id-1\" type=\"checkbox\" checked><label for=\"sk-estimator-id-1\" class=\"sk-toggleable__label sk-toggleable__label-arrow\">AdaBoostClassifier</label><div class=\"sk-toggleable__content\"><pre>AdaBoostClassifier(n_estimators=30, random_state=1)</pre></div></div></div></div></div>"
      ],
      "text/plain": [
       "AdaBoostClassifier(n_estimators=30, random_state=1)"
      ]
     },
     "execution_count": 7,
     "metadata": {},
     "output_type": "execute_result"
    }
   ],
   "source": [
    "num_tree = 30\n",
    "model = AdaBoostClassifier(n_estimators=num_tree, random_state=1)\n",
    "model.fit(X,y)"
   ]
  },
  {
   "cell_type": "code",
   "execution_count": 9,
   "id": "100f4422",
   "metadata": {},
   "outputs": [
    {
     "name": "stdout",
     "output_type": "stream",
     "text": [
      "0.9533333333333334\n"
     ]
    }
   ],
   "source": [
    "results = cross_val_score(model,X,y,cv=10)\n",
    "print(results.mean())"
   ]
  },
  {
   "cell_type": "markdown",
   "id": "4aed523c",
   "metadata": {},
   "source": [
    "## Further evaluation with SVC base estimator"
   ]
  },
  {
   "cell_type": "code",
   "execution_count": 11,
   "id": "999e523b",
   "metadata": {},
   "outputs": [
    {
     "name": "stderr",
     "output_type": "stream",
     "text": [
      "C:\\Users\\Yogesh Tatavdekar\\anaconda3\\Lib\\site-packages\\sklearn\\ensemble\\_base.py:166: FutureWarning: `base_estimator` was renamed to `estimator` in version 1.2 and will be removed in 1.4.\n",
      "  warnings.warn(\n",
      "C:\\Users\\Yogesh Tatavdekar\\anaconda3\\Lib\\site-packages\\sklearn\\ensemble\\_base.py:166: FutureWarning: `base_estimator` was renamed to `estimator` in version 1.2 and will be removed in 1.4.\n",
      "  warnings.warn(\n",
      "C:\\Users\\Yogesh Tatavdekar\\anaconda3\\Lib\\site-packages\\sklearn\\ensemble\\_base.py:166: FutureWarning: `base_estimator` was renamed to `estimator` in version 1.2 and will be removed in 1.4.\n",
      "  warnings.warn(\n",
      "C:\\Users\\Yogesh Tatavdekar\\anaconda3\\Lib\\site-packages\\sklearn\\ensemble\\_base.py:166: FutureWarning: `base_estimator` was renamed to `estimator` in version 1.2 and will be removed in 1.4.\n",
      "  warnings.warn(\n",
      "C:\\Users\\Yogesh Tatavdekar\\anaconda3\\Lib\\site-packages\\sklearn\\ensemble\\_base.py:166: FutureWarning: `base_estimator` was renamed to `estimator` in version 1.2 and will be removed in 1.4.\n",
      "  warnings.warn(\n",
      "C:\\Users\\Yogesh Tatavdekar\\anaconda3\\Lib\\site-packages\\sklearn\\ensemble\\_base.py:166: FutureWarning: `base_estimator` was renamed to `estimator` in version 1.2 and will be removed in 1.4.\n",
      "  warnings.warn(\n",
      "C:\\Users\\Yogesh Tatavdekar\\anaconda3\\Lib\\site-packages\\sklearn\\ensemble\\_base.py:166: FutureWarning: `base_estimator` was renamed to `estimator` in version 1.2 and will be removed in 1.4.\n",
      "  warnings.warn(\n",
      "C:\\Users\\Yogesh Tatavdekar\\anaconda3\\Lib\\site-packages\\sklearn\\ensemble\\_base.py:166: FutureWarning: `base_estimator` was renamed to `estimator` in version 1.2 and will be removed in 1.4.\n",
      "  warnings.warn(\n",
      "C:\\Users\\Yogesh Tatavdekar\\anaconda3\\Lib\\site-packages\\sklearn\\ensemble\\_base.py:166: FutureWarning: `base_estimator` was renamed to `estimator` in version 1.2 and will be removed in 1.4.\n",
      "  warnings.warn(\n",
      "C:\\Users\\Yogesh Tatavdekar\\anaconda3\\Lib\\site-packages\\sklearn\\ensemble\\_base.py:166: FutureWarning: `base_estimator` was renamed to `estimator` in version 1.2 and will be removed in 1.4.\n",
      "  warnings.warn(\n"
     ]
    },
    {
     "name": "stdout",
     "output_type": "stream",
     "text": [
      "0.9733333333333334\n"
     ]
    }
   ],
   "source": [
    "from sklearn.svm import SVC\n",
    "\n",
    "svc = SVC(probability=True,kernel='linear')\n",
    "model = AdaBoostClassifier(n_estimators=50,base_estimator=svc,random_state=7)\n",
    "res = cross_val_score(model,X,y,cv=10)\n",
    "print(res.mean())"
   ]
  },
  {
   "cell_type": "code",
   "execution_count": null,
   "id": "8a0d94b1",
   "metadata": {},
   "outputs": [],
   "source": []
  }
 ],
 "metadata": {
  "kernelspec": {
   "display_name": "Python 3 (ipykernel)",
   "language": "python",
   "name": "python3"
  },
  "language_info": {
   "codemirror_mode": {
    "name": "ipython",
    "version": 3
   },
   "file_extension": ".py",
   "mimetype": "text/x-python",
   "name": "python",
   "nbconvert_exporter": "python",
   "pygments_lexer": "ipython3",
   "version": "3.11.7"
  }
 },
 "nbformat": 4,
 "nbformat_minor": 5
}
