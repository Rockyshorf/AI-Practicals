{
 "cells": [
  {
   "cell_type": "markdown",
   "id": "7adb75c8",
   "metadata": {},
   "source": [
    "## Association Rule Mining"
   ]
  },
  {
   "cell_type": "code",
   "execution_count": 1,
   "id": "d7c00390",
   "metadata": {},
   "outputs": [],
   "source": [
    "# Importing the Modules\n",
    "import numpy as np\n",
    "import pandas as pd\n",
    "import matplotlib.pyplot as plt\n",
    "from apyori import apriori"
   ]
  },
  {
   "cell_type": "code",
   "execution_count": 39,
   "id": "b662287a",
   "metadata": {},
   "outputs": [
    {
     "data": {
      "text/html": [
       "<div>\n",
       "<style scoped>\n",
       "    .dataframe tbody tr th:only-of-type {\n",
       "        vertical-align: middle;\n",
       "    }\n",
       "\n",
       "    .dataframe tbody tr th {\n",
       "        vertical-align: top;\n",
       "    }\n",
       "\n",
       "    .dataframe thead th {\n",
       "        text-align: right;\n",
       "    }\n",
       "</style>\n",
       "<table border=\"1\" class=\"dataframe\">\n",
       "  <thead>\n",
       "    <tr style=\"text-align: right;\">\n",
       "      <th></th>\n",
       "      <th>0</th>\n",
       "      <th>1</th>\n",
       "      <th>2</th>\n",
       "      <th>3</th>\n",
       "      <th>4</th>\n",
       "      <th>5</th>\n",
       "      <th>6</th>\n",
       "      <th>7</th>\n",
       "      <th>8</th>\n",
       "      <th>9</th>\n",
       "      <th>10</th>\n",
       "      <th>11</th>\n",
       "      <th>12</th>\n",
       "      <th>13</th>\n",
       "      <th>14</th>\n",
       "      <th>15</th>\n",
       "      <th>16</th>\n",
       "      <th>17</th>\n",
       "      <th>18</th>\n",
       "      <th>19</th>\n",
       "    </tr>\n",
       "  </thead>\n",
       "  <tbody>\n",
       "    <tr>\n",
       "      <th>0</th>\n",
       "      <td>shrimp</td>\n",
       "      <td>almonds</td>\n",
       "      <td>avocado</td>\n",
       "      <td>vegetables mix</td>\n",
       "      <td>green grapes</td>\n",
       "      <td>whole weat flour</td>\n",
       "      <td>yams</td>\n",
       "      <td>cottage cheese</td>\n",
       "      <td>energy drink</td>\n",
       "      <td>tomato juice</td>\n",
       "      <td>low fat yogurt</td>\n",
       "      <td>green tea</td>\n",
       "      <td>honey</td>\n",
       "      <td>salad</td>\n",
       "      <td>mineral water</td>\n",
       "      <td>salmon</td>\n",
       "      <td>antioxydant juice</td>\n",
       "      <td>frozen smoothie</td>\n",
       "      <td>spinach</td>\n",
       "      <td>olive oil</td>\n",
       "    </tr>\n",
       "    <tr>\n",
       "      <th>1</th>\n",
       "      <td>burgers</td>\n",
       "      <td>meatballs</td>\n",
       "      <td>eggs</td>\n",
       "      <td>0</td>\n",
       "      <td>0</td>\n",
       "      <td>0</td>\n",
       "      <td>0</td>\n",
       "      <td>0</td>\n",
       "      <td>0</td>\n",
       "      <td>0</td>\n",
       "      <td>0</td>\n",
       "      <td>0</td>\n",
       "      <td>0</td>\n",
       "      <td>0</td>\n",
       "      <td>0</td>\n",
       "      <td>0</td>\n",
       "      <td>0</td>\n",
       "      <td>0</td>\n",
       "      <td>0</td>\n",
       "      <td>0</td>\n",
       "    </tr>\n",
       "    <tr>\n",
       "      <th>2</th>\n",
       "      <td>chutney</td>\n",
       "      <td>0</td>\n",
       "      <td>0</td>\n",
       "      <td>0</td>\n",
       "      <td>0</td>\n",
       "      <td>0</td>\n",
       "      <td>0</td>\n",
       "      <td>0</td>\n",
       "      <td>0</td>\n",
       "      <td>0</td>\n",
       "      <td>0</td>\n",
       "      <td>0</td>\n",
       "      <td>0</td>\n",
       "      <td>0</td>\n",
       "      <td>0</td>\n",
       "      <td>0</td>\n",
       "      <td>0</td>\n",
       "      <td>0</td>\n",
       "      <td>0</td>\n",
       "      <td>0</td>\n",
       "    </tr>\n",
       "    <tr>\n",
       "      <th>3</th>\n",
       "      <td>turkey</td>\n",
       "      <td>avocado</td>\n",
       "      <td>0</td>\n",
       "      <td>0</td>\n",
       "      <td>0</td>\n",
       "      <td>0</td>\n",
       "      <td>0</td>\n",
       "      <td>0</td>\n",
       "      <td>0</td>\n",
       "      <td>0</td>\n",
       "      <td>0</td>\n",
       "      <td>0</td>\n",
       "      <td>0</td>\n",
       "      <td>0</td>\n",
       "      <td>0</td>\n",
       "      <td>0</td>\n",
       "      <td>0</td>\n",
       "      <td>0</td>\n",
       "      <td>0</td>\n",
       "      <td>0</td>\n",
       "    </tr>\n",
       "    <tr>\n",
       "      <th>4</th>\n",
       "      <td>mineral water</td>\n",
       "      <td>milk</td>\n",
       "      <td>energy bar</td>\n",
       "      <td>whole wheat rice</td>\n",
       "      <td>green tea</td>\n",
       "      <td>0</td>\n",
       "      <td>0</td>\n",
       "      <td>0</td>\n",
       "      <td>0</td>\n",
       "      <td>0</td>\n",
       "      <td>0</td>\n",
       "      <td>0</td>\n",
       "      <td>0</td>\n",
       "      <td>0</td>\n",
       "      <td>0</td>\n",
       "      <td>0</td>\n",
       "      <td>0</td>\n",
       "      <td>0</td>\n",
       "      <td>0</td>\n",
       "      <td>0</td>\n",
       "    </tr>\n",
       "  </tbody>\n",
       "</table>\n",
       "</div>"
      ],
      "text/plain": [
       "              0          1           2                 3             4   \\\n",
       "0         shrimp    almonds     avocado    vegetables mix  green grapes   \n",
       "1        burgers  meatballs        eggs                 0             0   \n",
       "2        chutney          0           0                 0             0   \n",
       "3         turkey    avocado           0                 0             0   \n",
       "4  mineral water       milk  energy bar  whole wheat rice     green tea   \n",
       "\n",
       "                 5     6               7             8             9   \\\n",
       "0  whole weat flour  yams  cottage cheese  energy drink  tomato juice   \n",
       "1                 0     0               0             0             0   \n",
       "2                 0     0               0             0             0   \n",
       "3                 0     0               0             0             0   \n",
       "4                 0     0               0             0             0   \n",
       "\n",
       "               10         11     12     13             14      15  \\\n",
       "0  low fat yogurt  green tea  honey  salad  mineral water  salmon   \n",
       "1               0          0      0      0              0       0   \n",
       "2               0          0      0      0              0       0   \n",
       "3               0          0      0      0              0       0   \n",
       "4               0          0      0      0              0       0   \n",
       "\n",
       "                  16               17       18         19  \n",
       "0  antioxydant juice  frozen smoothie  spinach  olive oil  \n",
       "1                  0                0        0          0  \n",
       "2                  0                0        0          0  \n",
       "3                  0                0        0          0  \n",
       "4                  0                0        0          0  "
      ]
     },
     "execution_count": 39,
     "metadata": {},
     "output_type": "execute_result"
    }
   ],
   "source": [
    "store_data = pd.read_csv('./AI_DATA/store_data.csv',header=None)\n",
    "store_data = store_data.fillna(0)\n",
    "store_data.head()"
   ]
  },
  {
   "cell_type": "code",
   "execution_count": 40,
   "id": "640a87ee",
   "metadata": {},
   "outputs": [
    {
     "data": {
      "text/plain": [
       "0     0\n",
       "1     0\n",
       "2     0\n",
       "3     0\n",
       "4     0\n",
       "5     0\n",
       "6     0\n",
       "7     0\n",
       "8     0\n",
       "9     0\n",
       "10    0\n",
       "11    0\n",
       "12    0\n",
       "13    0\n",
       "14    0\n",
       "15    0\n",
       "16    0\n",
       "17    0\n",
       "18    0\n",
       "19    0\n",
       "dtype: int64"
      ]
     },
     "execution_count": 40,
     "metadata": {},
     "output_type": "execute_result"
    }
   ],
   "source": [
    "store_data.isna().sum()"
   ]
  },
  {
   "cell_type": "code",
   "execution_count": 41,
   "id": "202f4904",
   "metadata": {},
   "outputs": [
    {
     "data": {
      "text/plain": [
       "(7501, 20)"
      ]
     },
     "execution_count": 41,
     "metadata": {},
     "output_type": "execute_result"
    }
   ],
   "source": [
    "store_data.shape"
   ]
  },
  {
   "cell_type": "code",
   "execution_count": 42,
   "id": "315a82fb",
   "metadata": {},
   "outputs": [],
   "source": [
    "records = []\n",
    "\n",
    "for i in range(1,101):\n",
    "    records.append([str(store_data.values[i,j])for j in range(0,20) if str(store_data.values[i,j]!='0')])\n",
    "#print(records)"
   ]
  },
  {
   "cell_type": "code",
   "execution_count": 57,
   "id": "76066cdc",
   "metadata": {},
   "outputs": [
    {
     "name": "stdout",
     "output_type": "stream",
     "text": [
      "[RelationRecord(items=frozenset({'spaghetti', 'frozen vegetables'}), support=0.05, ordered_statistics=[OrderedStatistic(items_base=frozenset({'frozen vegetables'}), items_add=frozenset({'spaghetti'}), confidence=0.625, lift=3.125), OrderedStatistic(items_base=frozenset({'spaghetti'}), items_add=frozenset({'frozen vegetables'}), confidence=0.25, lift=3.125)]), RelationRecord(items=frozenset({'ground beef', 'mineral water'}), support=0.05, ordered_statistics=[OrderedStatistic(items_base=frozenset({'ground beef'}), items_add=frozenset({'mineral water'}), confidence=0.8333333333333334, lift=3.3333333333333335), OrderedStatistic(items_base=frozenset({'mineral water'}), items_add=frozenset({'ground beef'}), confidence=0.2, lift=3.3333333333333335)])]\n"
     ]
    }
   ],
   "source": [
    "association_rule = apriori(records, min_support=0.045, min_confidence=0.2,min_lift=3, max_length=2)\n",
    "association_result = list(association_rule)\n",
    "print(association_result)"
   ]
  },
  {
   "cell_type": "code",
   "execution_count": 58,
   "id": "0ffcb677",
   "metadata": {},
   "outputs": [
    {
     "name": "stdout",
     "output_type": "stream",
     "text": [
      "2\n"
     ]
    }
   ],
   "source": [
    "print(len(association_result))"
   ]
  },
  {
   "cell_type": "code",
   "execution_count": 59,
   "id": "055de7f3",
   "metadata": {},
   "outputs": [
    {
     "name": "stdout",
     "output_type": "stream",
     "text": [
      "RelationRecord(items=frozenset({'spaghetti', 'frozen vegetables'}), support=0.05, ordered_statistics=[OrderedStatistic(items_base=frozenset({'frozen vegetables'}), items_add=frozenset({'spaghetti'}), confidence=0.625, lift=3.125), OrderedStatistic(items_base=frozenset({'spaghetti'}), items_add=frozenset({'frozen vegetables'}), confidence=0.25, lift=3.125)])\n"
     ]
    }
   ],
   "source": [
    "print(association_result[0])"
   ]
  },
  {
   "cell_type": "code",
   "execution_count": 60,
   "id": "d5551821",
   "metadata": {},
   "outputs": [
    {
     "name": "stdout",
     "output_type": "stream",
     "text": [
      "Rule:spaghetti-->frozen vegetables\n",
      "Support: 0.05\n",
      "Confidence:0.625\n",
      "Lift:3.125\n",
      "==================================\n",
      "Rule:ground beef-->mineral water\n",
      "Support: 0.05\n",
      "Confidence:0.8333333333333334\n",
      "Lift:3.3333333333333335\n",
      "==================================\n"
     ]
    }
   ],
   "source": [
    "for item in association_result:\n",
    "    pair = item[0]\n",
    "    items = [x for x in pair]\n",
    "    print(\"Rule:\"+items[0]+\"-->\"+items[1])\n",
    "    print(\"Support:\",str(item[1]))\n",
    "    print(\"Confidence:\"+str(item[2][0][2]))\n",
    "    print(\"Lift:\"+str(item[2][0][3]))\n",
    "    print(\"==================================\")"
   ]
  },
  {
   "cell_type": "markdown",
   "id": "3c3d854d",
   "metadata": {},
   "source": [
    "## Combining all Together"
   ]
  },
  {
   "cell_type": "code",
   "execution_count": 62,
   "id": "75ec221b",
   "metadata": {},
   "outputs": [
    {
     "name": "stdout",
     "output_type": "stream",
     "text": [
      "[RelationRecord(items=frozenset({'spaghetti', 'frozen vegetables'}), support=0.05, ordered_statistics=[OrderedStatistic(items_base=frozenset({'frozen vegetables'}), items_add=frozenset({'spaghetti'}), confidence=0.625, lift=3.125), OrderedStatistic(items_base=frozenset({'spaghetti'}), items_add=frozenset({'frozen vegetables'}), confidence=0.25, lift=3.125)]), RelationRecord(items=frozenset({'ground beef', 'mineral water'}), support=0.05, ordered_statistics=[OrderedStatistic(items_base=frozenset({'ground beef'}), items_add=frozenset({'mineral water'}), confidence=0.8333333333333334, lift=3.3333333333333335), OrderedStatistic(items_base=frozenset({'mineral water'}), items_add=frozenset({'ground beef'}), confidence=0.2, lift=3.3333333333333335)])]\n",
      "2\n",
      "RelationRecord(items=frozenset({'spaghetti', 'frozen vegetables'}), support=0.05, ordered_statistics=[OrderedStatistic(items_base=frozenset({'frozen vegetables'}), items_add=frozenset({'spaghetti'}), confidence=0.625, lift=3.125), OrderedStatistic(items_base=frozenset({'spaghetti'}), items_add=frozenset({'frozen vegetables'}), confidence=0.25, lift=3.125)]) \n",
      "\n",
      "Rule:spaghetti-->frozen vegetables\n",
      "Support: 0.05\n",
      "Confidence:0.625\n",
      "Lift:3.125\n",
      "==================================\n",
      "Rule:ground beef-->mineral water\n",
      "Support: 0.05\n",
      "Confidence:0.8333333333333334\n",
      "Lift:3.3333333333333335\n",
      "==================================\n"
     ]
    }
   ],
   "source": [
    "# Importing the Modules\n",
    "import numpy as np\n",
    "import pandas as pd\n",
    "import matplotlib.pyplot as plt\n",
    "from apyori import apriori\n",
    "\n",
    "# Reading Data\n",
    "store_data = pd.read_csv('./AI_DATA/store_data.csv',header=None)\n",
    "store_data = store_data.fillna(0)\n",
    "#store_data.head()\n",
    "#store_data.isna().sum()\n",
    "store_data.shape\n",
    "\n",
    "# appending the records in list\n",
    "records = []\n",
    "\n",
    "for i in range(1,101):\n",
    "    records.append([str(store_data.values[i,j])for j in range(0,20) if str(store_data.values[i,j]!='0')])\n",
    "#print(records)\n",
    "\n",
    "# Initiating the model\n",
    "association_rule = apriori(records, min_support=0.045, min_confidence=0.2,min_lift=3, max_length=2)\n",
    "association_result = list(association_rule)\n",
    "print(association_result)\n",
    "\n",
    "# Viewing info about the data\n",
    "print(len(association_result))\n",
    "print(association_result[0],'\\n')\n",
    "\n",
    "# Printing Output\n",
    "for item in association_result:\n",
    "    pair = item[0]\n",
    "    items = [x for x in pair]\n",
    "    print(\"Rule:\"+items[0]+\"-->\"+items[1])\n",
    "    print(\"Support:\",str(item[1]))\n",
    "    print(\"Confidence:\"+str(item[2][0][2]))\n",
    "    print(\"Lift:\"+str(item[2][0][3]))\n",
    "    print(\"==================================\")"
   ]
  },
  {
   "cell_type": "code",
   "execution_count": null,
   "id": "4e85fd76",
   "metadata": {},
   "outputs": [],
   "source": []
  }
 ],
 "metadata": {
  "kernelspec": {
   "display_name": "Python 3 (ipykernel)",
   "language": "python",
   "name": "python3"
  },
  "language_info": {
   "codemirror_mode": {
    "name": "ipython",
    "version": 3
   },
   "file_extension": ".py",
   "mimetype": "text/x-python",
   "name": "python",
   "nbconvert_exporter": "python",
   "pygments_lexer": "ipython3",
   "version": "3.11.7"
  }
 },
 "nbformat": 4,
 "nbformat_minor": 5
}
