{
 "cells": [
  {
   "cell_type": "markdown",
   "id": "bdea41a5",
   "metadata": {},
   "source": [
    "## Feed Forward Backpropagation Neural Network"
   ]
  },
  {
   "cell_type": "code",
   "execution_count": 2,
   "id": "98ed6861",
   "metadata": {},
   "outputs": [],
   "source": [
    "# Importing the modules\n",
    "import numpy as np"
   ]
  },
  {
   "cell_type": "code",
   "execution_count": 2,
   "id": "682ecc9a",
   "metadata": {},
   "outputs": [
    {
     "name": "stdout",
     "output_type": "stream",
     "text": [
      "Beginning randomly generated weights: \n",
      "[[ 0.13465992]\n",
      " [-0.93153358]\n",
      " [ 0.71042747]] \n",
      "\n",
      "Ending weights after training: \n",
      "[[10.08731134]\n",
      " [-0.20781323]\n",
      " [-4.83701678]] \n",
      "\n",
      "Outputs after training: \n",
      "[[0.00786828]\n",
      " [0.99358373]\n",
      " [0.9947814 ]\n",
      " [0.00640131]]\n"
     ]
    }
   ],
   "source": [
    "class NeuralNetwork():\n",
    "    \n",
    "    def __init__(self):\n",
    "        np.random.seed()\n",
    "        self.synaptic_weights = 2*np.random.random((3,1))-1\n",
    "        \n",
    "    def sigmoid(self,x):\n",
    "        return 1/(1+np.exp(-x))\n",
    "    \n",
    "    def sigmoid_derivative(self,x):\n",
    "        return x*(1-x)\n",
    "    \n",
    "    def train(self, train_in, train_out, training_iter):\n",
    "        for iter in range(training_iter):\n",
    "            output = self.think(train_in)\n",
    "            error = train_out - output\n",
    "            adjust = np.dot(train_in.T,error*self.sigmoid_derivative(output))\n",
    "            self.synaptic_weights += adjust\n",
    "    \n",
    "    def think(self, inputs):\n",
    "        inputs = inputs.astype(float)\n",
    "        output = self.sigmoid(np.dot(inputs,self.synaptic_weights))\n",
    "        return output\n",
    "    \n",
    "if __name__=='__main__':\n",
    "    \n",
    "    neural_network = NeuralNetwork()\n",
    "    \n",
    "    print(\"Beginning randomly generated weights: \")\n",
    "    print(neural_network.synaptic_weights,\"\\n\")\n",
    "    \n",
    "    train_in = np.array([[0,0,1],[1,1,1],[1,0,1],[0,1,1]])\n",
    "    train_out = np.array([[0,1,1,0]]).T\n",
    "    \n",
    "    neural_network.train(train_in, train_out, 15000)\n",
    "    \n",
    "    print(\"Ending weights after training: \")\n",
    "    print(neural_network.synaptic_weights,\"\\n\")\n",
    "    print(\"Outputs after training: \")\n",
    "    print(neural_network.think(train_in))"
   ]
  },
  {
   "cell_type": "code",
   "execution_count": 3,
   "id": "94274504",
   "metadata": {},
   "outputs": [
    {
     "name": "stdout",
     "output_type": "stream",
     "text": [
      "User Input One:1\n",
      "User Input Two:0\n",
      "User Input Three:1\n",
      "Considering new situation: 1 0 1\n",
      "New output data: \n",
      "[0.9947814]\n"
     ]
    }
   ],
   "source": [
    "user_input_one = str(input(\"User Input One:\"))\n",
    "user_input_Two = str(input(\"User Input Two:\"))\n",
    "user_input_Three = str(input(\"User Input Three:\"))\n",
    "\n",
    "print(\"Considering new situation:\",user_input_one, user_input_Two, user_input_Three)\n",
    "print(\"New output data: \")\n",
    "print(neural_network.think(np.array([user_input_one, user_input_Two, user_input_Three])))"
   ]
  },
  {
   "cell_type": "code",
   "execution_count": null,
   "id": "2b9ad8f2",
   "metadata": {},
   "outputs": [],
   "source": []
  },
  {
   "cell_type": "code",
   "execution_count": 3,
   "id": "bed0b357",
   "metadata": {},
   "outputs": [
    {
     "name": "stdout",
     "output_type": "stream",
     "text": [
      "[[0.32013108]\n",
      " [0.21447689]\n",
      " [0.66587592]]\n"
     ]
    }
   ],
   "source": [
    "x = 2*np.random.random((3,1))-1\n",
    "print(x)"
   ]
  },
  {
   "cell_type": "code",
   "execution_count": 12,
   "id": "96dc4fd2",
   "metadata": {},
   "outputs": [
    {
     "data": {
      "text/plain": [
       "array([[-0.25091976],\n",
       "       [ 0.90142861],\n",
       "       [ 0.46398788]])"
      ]
     },
     "execution_count": 12,
     "metadata": {},
     "output_type": "execute_result"
    }
   ],
   "source": [
    "np.random.seed(42)\n",
    "2*np.random.random((3,1))-1"
   ]
  },
  {
   "cell_type": "code",
   "execution_count": 8,
   "id": "ebcb67a6",
   "metadata": {},
   "outputs": [
    {
     "data": {
      "text/plain": [
       "1.90142862"
      ]
     },
     "execution_count": 8,
     "metadata": {},
     "output_type": "execute_result"
    }
   ],
   "source": [
    "2*0.95071431"
   ]
  },
  {
   "cell_type": "code",
   "execution_count": 9,
   "id": "de06d8aa",
   "metadata": {},
   "outputs": [
    {
     "data": {
      "text/plain": [
       "0.74908024"
      ]
     },
     "execution_count": 9,
     "metadata": {},
     "output_type": "execute_result"
    }
   ],
   "source": [
    "2*0.37454012"
   ]
  },
  {
   "cell_type": "code",
   "execution_count": 10,
   "id": "ed9363e7",
   "metadata": {},
   "outputs": [
    {
     "data": {
      "text/plain": [
       "1.33175184"
      ]
     },
     "execution_count": 10,
     "metadata": {},
     "output_type": "execute_result"
    }
   ],
   "source": [
    "2*0.66587592"
   ]
  },
  {
   "cell_type": "code",
   "execution_count": 13,
   "id": "a04a2acd",
   "metadata": {},
   "outputs": [
    {
     "data": {
      "text/plain": [
       "0.9014286199999999"
      ]
     },
     "execution_count": 13,
     "metadata": {},
     "output_type": "execute_result"
    }
   ],
   "source": [
    "1.90142862-1"
   ]
  },
  {
   "cell_type": "code",
   "execution_count": 14,
   "id": "945055c2",
   "metadata": {},
   "outputs": [
    {
     "data": {
      "text/plain": [
       "-0.25091976000000005"
      ]
     },
     "execution_count": 14,
     "metadata": {},
     "output_type": "execute_result"
    }
   ],
   "source": [
    "2*0.37454012-1"
   ]
  }
 ],
 "metadata": {
  "kernelspec": {
   "display_name": "Python 3 (ipykernel)",
   "language": "python",
   "name": "python3"
  },
  "language_info": {
   "codemirror_mode": {
    "name": "ipython",
    "version": 3
   },
   "file_extension": ".py",
   "mimetype": "text/x-python",
   "name": "python",
   "nbconvert_exporter": "python",
   "pygments_lexer": "ipython3",
   "version": "3.11.7"
  }
 },
 "nbformat": 4,
 "nbformat_minor": 5
}
