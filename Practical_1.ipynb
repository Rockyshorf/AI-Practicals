{
 "cells": [
  {
   "cell_type": "code",
   "execution_count": 3,
   "id": "15d23f04",
   "metadata": {},
   "outputs": [],
   "source": [
    "graph = {\n",
    "    'S':['A','B','C'],\n",
    "    'A':['D'],\n",
    "    'B':['E'],\n",
    "    'C':['F','J'],\n",
    "    'D':['G'],\n",
    "    'E':['I','J'],\n",
    "    'F':['S'],\n",
    "    'G':['H'],\n",
    "    'H':['D'],\n",
    "    'I':[],\n",
    "    'J':[],\n",
    "}"
   ]
  },
  {
   "cell_type": "code",
   "execution_count": 4,
   "id": "b52dc91e",
   "metadata": {},
   "outputs": [],
   "source": [
    "graph_dict = dict(A=dict(B=5,C=2),\n",
    "                  B=dict(A=6,D=2,E=4),\n",
    "                  C=dict(A=5,F=6),\n",
    "                  D=dict(B=9),\n",
    "                  E=dict(B=7,F=6),\n",
    "                  F=dict(C=2,E=5))"
   ]
  },
  {
   "cell_type": "markdown",
   "id": "605f1217",
   "metadata": {},
   "source": [
    "## Breadth First Search"
   ]
  },
  {
   "cell_type": "code",
   "execution_count": 16,
   "id": "f02da3c1",
   "metadata": {},
   "outputs": [
    {
     "name": "stdout",
     "output_type": "stream",
     "text": [
      "Following is the BFS\n",
      "Enter the start node:S\n",
      "Enter the end node:I\n",
      "['S', 'B', 'E', 'I']\n"
     ]
    }
   ],
   "source": [
    "from collections import deque\n",
    "\n",
    "def bfs(graph, node, target):\n",
    "    \n",
    "    visited = {}\n",
    "    queue = deque()\n",
    "    \n",
    "    visited[node] = None\n",
    "    queue.append(node)\n",
    "    \n",
    "    while queue:\n",
    "        m = queue.popleft()\n",
    "        if m == target:\n",
    "            path = []\n",
    "            \n",
    "            while m:\n",
    "                path.append(m)\n",
    "                m = visited[m]\n",
    "            return path[::-1]\n",
    "        \n",
    "        for neighbour in graph[m]:\n",
    "            if neighbour not in visited:\n",
    "                visited[neighbour] = m\n",
    "                queue.append(neighbour)\n",
    "\n",
    "print(\"Following is the BFS\")\n",
    "start = input(\"Enter the start node:\")\n",
    "end = input(\"Enter the end node:\")\n",
    "print(bfs(graph, start, end))"
   ]
  },
  {
   "cell_type": "markdown",
   "id": "4bd2a0bc",
   "metadata": {},
   "source": [
    "## Iterative Depth First Search"
   ]
  },
  {
   "cell_type": "code",
   "execution_count": null,
   "id": "fce33938",
   "metadata": {},
   "outputs": [],
   "source": [
    "def dfs_paths(graph, start, goal):\n",
    "    \n",
    "    stack = [(start,[start])]\n",
    "    visited = set()\n",
    "    \n",
    "    while stack:\n",
    "        (vertex, path) = stack.pop()\n",
    "        \n",
    "        if vertex not in visited:\n",
    "            if vertex == goal:\n",
    "                return path\n",
    "            \n",
    "        visited.add(vertex)\n",
    "        \n",
    "        for neighbour in graph[vertex]:\n",
    "            stack.append((neighbour, path[neighbour]))\n",
    "            \n",
    "print(\"Following is Iterative DFS\")\n",
    "start = input(\"Enter the start node:\")\n",
    "goal = input(\"Enter the goal node:\")\n",
    "print(dfs_paths(graph_dict, start, goal))"
   ]
  }
 ],
 "metadata": {
  "kernelspec": {
   "display_name": "Python 3 (ipykernel)",
   "language": "python",
   "name": "python3"
  },
  "language_info": {
   "codemirror_mode": {
    "name": "ipython",
    "version": 3
   },
   "file_extension": ".py",
   "mimetype": "text/x-python",
   "name": "python",
   "nbconvert_exporter": "python",
   "pygments_lexer": "ipython3",
   "version": "3.11.7"
  }
 },
 "nbformat": 4,
 "nbformat_minor": 5
}
